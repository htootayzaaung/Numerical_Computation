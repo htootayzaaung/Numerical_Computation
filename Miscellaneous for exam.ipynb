{
 "cells": [
  {
   "cell_type": "code",
   "execution_count": 5,
   "id": "a840aef6",
   "metadata": {},
   "outputs": [
    {
     "name": "stdout",
     "output_type": "stream",
     "text": [
      "Residual: 5.70087712549569\n"
     ]
    }
   ],
   "source": [
    "import numpy as np\n",
    "\n",
    "def residual(A, x, b):\n",
    "    dot_product = b - np.dot(A, x)\n",
    "    add_squares = 0\n",
    "    for i in range(len(dot_product)):\n",
    "        add_squares += dot_product[i] ** 2\n",
    "    sol = np.sqrt(add_squares)\n",
    "    return sol\n",
    "\n",
    "#residual = magnitude(b - Ax)\n",
    "\n",
    "A = np.array([[2, -1, 0], [-1, 1, 3], [1, 0, 1]], float)\n",
    "b = np.array([1, 3, 2], float)\n",
    "x = np.array([0.5, 3.5, 1.5], float)\n",
    "print(f\"Residual: {residual(A, x, b)}\")"
   ]
  },
  {
   "cell_type": "code",
   "execution_count": null,
   "id": "57a60107",
   "metadata": {},
   "outputs": [],
   "source": [
    "\"\"\"\n",
    "In the Gauss-Seidel and Jacobi iteration method, the residual is the difference between the solution obtained \n",
    "at the current iteration and the solution obtained at the previous iteration. It is used as a measure of how \n",
    "close the solution is to the true solution of the linear system Ax = b. \n",
    "\n",
    "The residual is used as a stopping criterion for the iteration process. The iteration continues until the \n",
    "residual falls below a certain tolerance level or the maximum number of iterations is reached. The smaller \n",
    "the residual, the closer the solution is to the true solution of the system.\n",
    "\n",
    "The residual can be calculated using the following formula:\n",
    "\n",
    "residual = || b - Ax ||\n",
    "\n",
    "where A is the matrix, x is the current approximation to the solution, and b is the right-hand side of the equation. The operator || || denotes the Euclidean norm, which is the square root of the sum of the squares of the elements in the vector.\n",
    "\n",
    "\"\"\""
   ]
  },
  {
   "cell_type": "code",
   "execution_count": 18,
   "id": "e61fbdb2",
   "metadata": {},
   "outputs": [
    {
     "name": "stdout",
     "output_type": "stream",
     "text": [
      "[1.  3.2]\n"
     ]
    }
   ],
   "source": [
    "#The product of two matrices, vectors provided that they are multiplicable\n",
    "import numpy as np\n",
    "\n",
    "A = np.array([[-1, 0, 1], [1, 1, 1]])\n",
    "b = np.array([0.5, 1.2, 1.5])\n",
    "\n",
    "print(np.dot(A, b))\n"
   ]
  },
  {
   "cell_type": "code",
   "execution_count": 19,
   "id": "0d45ad2a",
   "metadata": {},
   "outputs": [
    {
     "name": "stdout",
     "output_type": "stream",
     "text": [
      "[[0.5        0.        ]\n",
      " [0.         0.33333333]]\n"
     ]
    }
   ],
   "source": [
    "#Finding an inverse of a matrix\n",
    "import numpy as np\n",
    "\n",
    "A = np.array([[2, 0], [0, 3]])\n",
    "A_inv = np.linalg.inv(A)\n",
    "print(A_inv)"
   ]
  },
  {
   "cell_type": "code",
   "execution_count": 20,
   "id": "d8c234f5",
   "metadata": {},
   "outputs": [
    {
     "name": "stdout",
     "output_type": "stream",
     "text": [
      "[0.5        1.06666667]\n"
     ]
    }
   ],
   "source": [
    "print(np.dot(A_inv, np.array([1, 3.2])))"
   ]
  },
  {
   "cell_type": "code",
   "execution_count": 4,
   "id": "90d040b0",
   "metadata": {},
   "outputs": [
    {
     "name": "stdout",
     "output_type": "stream",
     "text": [
      "[4.5 7.5 2. ]\n"
     ]
    }
   ],
   "source": [
    "import numpy as np\n",
    "\n",
    "print(np.dot([[2, 1, 0], [-1, 1, 3], [1, 0, 1]], [0.5, 3.5, 1.5]))"
   ]
  },
  {
   "cell_type": "code",
   "execution_count": 6,
   "id": "7c9e0db6",
   "metadata": {},
   "outputs": [
    {
     "name": "stdout",
     "output_type": "stream",
     "text": [
      "[[5.    0.    2.5  ]\n",
      " [0.    2.5   0.   ]\n",
      " [2.5   0.    2.125]]\n",
      "[4.   1.   3.25]\n",
      "[0.08571429 0.4        1.42857143]\n"
     ]
    }
   ],
   "source": [
    "#Least Square Fitting\n",
    "\n",
    "import numpy as np\n",
    "\n",
    "# Define the matrix\n",
    "A = np.array([[1,-1,1],[1,-0.5,0.25],[1,0,0],[1,0.5,0.25],[1,1,1]])\n",
    "\n",
    "# Transpose the matrix using the numpy.transpose() function           Ab = x\n",
    "A_transposed = np.transpose(A)\n",
    "C = np.dot(A_transposed, A)                         \n",
    "B = np.array([1,0.5,0,0.5,2])\n",
    "D = np.dot(A_transposed, B)\n",
    "print(C)\n",
    "print(D)\n",
    "X = np.linalg.solve(C, D)\n",
    "print(X)"
   ]
  },
  {
   "cell_type": "code",
   "execution_count": 11,
   "id": "f6dcfdbc",
   "metadata": {},
   "outputs": [
    {
     "name": "stdout",
     "output_type": "stream",
     "text": [
      "Fitted parameters: x1 = 0.0857, x2 = 0.4 x3 = 1.4286\n"
     ]
    }
   ],
   "source": [
    "import numpy as np\n",
    "from scipy.optimize import least_squares\n",
    "\n",
    "# Define the function to fit\n",
    "def func(x, a, b,c):\n",
    "    return a*x*x + b*x + c\n",
    "\n",
    "# Define the residuals (difference between data and model)\n",
    "def residuals(p, y, x):\n",
    "    return y - func(x, *p)\n",
    "\n",
    "# Initial guess for the parameters\n",
    "x = np.array([-1, -0.5, 0,0.5,1.0])\n",
    "y = np.array([1,0.5,0,0.5,2])\n",
    "p0 = [1, 1, 1]\n",
    "\n",
    "# Perform the least squares optimization\n",
    "res = least_squares(residuals, p0, args=(y, x))\n",
    "res.x = np.around(res.x, decimals=4)\n",
    "\n",
    "# Print the results\n",
    "print(\"Fitted parameters: x1 = {2}, x2 = {1} x3 = {0}\".format(res.x[0], res.x[1],res.x[2]))\n"
   ]
  },
  {
   "cell_type": "code",
   "execution_count": 12,
   "id": "ec94083f",
   "metadata": {},
   "outputs": [
    {
     "name": "stdout",
     "output_type": "stream",
     "text": [
      "Total numbers possible in the system: 12601.0\n",
      "The largest number is 999.0.\n"
     ]
    }
   ],
   "source": [
    "import numpy as np\n",
    "def largest(b,t,l,u):\n",
    "    y = np.float64(0)\n",
    "    b = np.float64(b)\n",
    "    t = int(t)\n",
    "    l = np.float64(l) \n",
    "    u = np.float64(u)\n",
    "    nos = 1\n",
    "    for j in range(t):\n",
    "        if j == 0:\n",
    "            nos =nos* (b-1)\n",
    "        else:\n",
    "            nos = nos*(b)\n",
    "    nos = nos * 2 *(u+abs(l)+1) + 1\n",
    "    for i in range(t):\n",
    "        y = y + b**(-i-1)*(b-1)\n",
    "    print('Total numbers possible in the system:',nos)\n",
    "    return b**u*y\n",
    "\n",
    "print(f\"The largest number is {largest(10,3,-3,3)}.\")"
   ]
  }
 ],
 "metadata": {
  "kernelspec": {
   "display_name": "python_ml",
   "language": "python",
   "name": "python_ml"
  },
  "language_info": {
   "codemirror_mode": {
    "name": "ipython",
    "version": 3
   },
   "file_extension": ".py",
   "mimetype": "text/x-python",
   "name": "python",
   "nbconvert_exporter": "python",
   "pygments_lexer": "ipython3",
   "version": "3.9.0"
  }
 },
 "nbformat": 4,
 "nbformat_minor": 5
}
