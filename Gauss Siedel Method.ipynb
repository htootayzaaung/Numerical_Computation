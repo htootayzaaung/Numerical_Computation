{
 "cells": [
  {
   "cell_type": "code",
   "execution_count": 13,
   "id": "3923a037",
   "metadata": {},
   "outputs": [
    {
     "name": "stdout",
     "output_type": "stream",
     "text": [
      "Last iteration:  9\n",
      "Solution: [0.19148933317387246, 0.5744680675477951, 0.34042553301304707]\n"
     ]
    }
   ],
   "source": [
    "\"\"\"\n",
    "Gauss-Siedel's method:\n",
    "\n",
    "The Gauss-Siedel method is an iterative method and has an algorithm very similar to Jacobi's method the only\n",
    "difference is that the obtained new values of x are applied into the coming equations with the same iteration.\n",
    "\n",
    "Suppose the following linear systems:\n",
    "\n",
    "    Ax = b\n",
    "        \n",
    "    [2,  1] [x1] = [3.5]     Here A11 = 2, A12 = 1, A21 = -1 and A22 = 4\n",
    "    [-1, 4] [x2]   [0.5]     Here b1 = 3.5 and b2 = 0.5\n",
    "\n",
    "x^(0) = (2, 1)^T             Here x1^(0) = 2 and x2^(0) = 1 for the initial values\n",
    "\n",
    "First Iteration: \n",
    "\n",
    "    x1^(1) = x1^(0) + (1 / A11)(b1 - A11 * x1^(0) - A12 * x2^(0))                   Note that x1 and x2 should   \n",
    "                                                                                    be written in lower subscript!\n",
    "    x2^(1) = x2^(0) + (1 / A22)(b2 - A21 * x1^(1) - A22 * x^2(0))\n",
    "    \n",
    "    \n",
    "    x1^(1) = 2 + (1 / 2)(3.5 - 2 * 2 - 1 * 1) = 1.25\n",
    "\n",
    "    x2^(1) = 1 + (1 / 4)(0.5 -(-1) * 1.25 - 4 * 1) = 0.4375\n",
    "    \n",
    "\n",
    "Second Iteration:\n",
    "\n",
    "    x1^(2) = x1^(1) + (1 / A11)(b1 - A11 * x1^(1) - A12 * x2^(1))\n",
    "    \n",
    "    x2^(2) = x2^(1) + (1 / A22)(b2 - A21 * x1^(2) - A22 * x^2(1))\n",
    "    \n",
    "\n",
    "Note this method is tested and working 100% for n x n, to avoid the confusion as shown above just plug the arrays\n",
    "to the method!\n",
    "\n",
    "_where A is a matrix that contains all the coefficients\n",
    "_x is a vector that contains all the solutions: x1, x2, x3, ... xn\n",
    "_b is a vector that contains all the constants\n",
    "\n",
    "\n",
    "\"\"\"\n",
    "\n",
    "import numpy as np\n",
    "\n",
    "def gauss_seidel(A, b, x, tol=1e-6, max_iter=1000):\n",
    "    n = len(A)\n",
    "    iteration = 0\n",
    "    for i in range(max_iter):\n",
    "        iteration += 1\n",
    "        x_new = [0]*n\n",
    "        for j in range(n):\n",
    "            s1 = sum(A[j][k]*x_new[k] for k in range(j))\n",
    "            s2 = sum(A[j][k]*x[k] for k in range(j+1,n))\n",
    "            x_new[j] = (b[j] - s1 - s2) / A[j][j]\n",
    "        if all(abs(x_new[i] - x[i]) < tol for i in range(n)):\n",
    "            print(\"Last iteration: \",iteration)\n",
    "            return x_new\n",
    "        x = x_new\n",
    "    print(\"Last iteration: \",iteration)\n",
    "    return x\n",
    "\n",
    "\n",
    "A = np.array([[4, 1, -1], \n",
    "              [1, -5, 2], \n",
    "              [-1, 2, 6]], float)\n",
    "\n",
    "b = np.array([1, -2, 3], float)\n",
    "x0 = np.array([0, 0, 0], float)\n",
    "\n",
    "solution = gauss_seidel(A, b, x0)\n",
    "print(\"Solution:\", solution)"
   ]
  },
  {
   "cell_type": "code",
   "execution_count": 15,
   "id": "7e67d50f",
   "metadata": {},
   "outputs": [
    {
     "name": "stdout",
     "output_type": "stream",
     "text": [
      "Last Iteration:  31\n",
      "Solution: [ 0.36500668 -0.23378501  0.28506797 -0.20362037]\n"
     ]
    }
   ],
   "source": [
    "import numpy as np\n",
    "\n",
    "def jacobi(A, b, x, epsilon=1e-6, max_iter=1000):\n",
    "    n = len(A)\n",
    "    x = np.copy(x)\n",
    "    D = np.diag(np.diag(A))\n",
    "    R = A - D\n",
    "    iteration = 0\n",
    "    while iteration < max_iter:\n",
    "        x_new = np.dot(np.linalg.inv(D), b - np.dot(R, x))\n",
    "        iteration += 1\n",
    "        if np.linalg.norm(x_new - x) < epsilon:\n",
    "            print(\"Last Iteration: \",iteration)\n",
    "            print(\"Solution:\",x_new)\n",
    "            break\n",
    "        x = np.copy(x_new)\n",
    "    return x\n",
    "\n",
    "# Example usage\n",
    "\n",
    "A = np.array([[4, 1, 2, -1],\n",
    "             [3, 6, -1, 2],\n",
    "             [2, -1, 5, -3],\n",
    "             [4, 1, -3, -8]], float)\n",
    "\n",
    "b = np.array([2, -1, 3, 2], float)\n",
    "x0 = np.array([1, 1, 1, 1], float)\n",
    "x = jacobi(A, b, x0)"
   ]
  },
  {
   "cell_type": "code",
   "execution_count": 3,
   "id": "c91908fe",
   "metadata": {},
   "outputs": [
    {
     "name": "stdout",
     "output_type": "stream",
     "text": [
      "Iteration 1: [0.5, 3.5, 1.5]\n",
      "Iteration 2: [2.25, 0.75, -0.25]\n",
      "Iteration 3: [0.875, 4.625, 1.125]\n",
      "Solution: [0.875, 4.625, 1.125]\n"
     ]
    }
   ],
   "source": [
    "import numpy as np\n",
    "\n",
    "def gauss_seidel(A, b, x, max_iter):\n",
    "    n = len(A)\n",
    "    iteration = 0\n",
    "    for i in range(max_iter):\n",
    "        iteration += 1\n",
    "        x_new = [0]*n\n",
    "        for j in range(n):\n",
    "            s1 = sum(A[j][k]*x_new[k] for k in range(j))\n",
    "            s2 = sum(A[j][k]*x[k] for k in range(j+1,n))\n",
    "            x_new[j] = (b[j] - s1 - s2) / A[j][j]\n",
    "        print(f\"Iteration {iteration}: {x_new}\")\n",
    "        if all(abs(x_new[i] - x[i]) < 1e-6 for i in range(n)):\n",
    "            return x_new\n",
    "        x = x_new\n",
    "    return x\n",
    "\n",
    "A = np.array([[2, -1, 0], [-1, 1, 3], [1, 0, 1]], float)              #change!\n",
    "b = np.array([1, 3, 2], float)                     #change!\n",
    "x0 = np.array([0, 0, 0], float)                         #change!\n",
    "\n",
    "solution = gauss_seidel(A, b, x0, 3)\n",
    "print(\"Solution:\", solution)\n"
   ]
  },
  {
   "cell_type": "code",
   "execution_count": null,
   "id": "4ff5cc3f",
   "metadata": {},
   "outputs": [],
   "source": [
    "\"\"\"\n",
    "_The Gauss-Siedel iteration generally outperforms the Jacobi iteration\n",
    "_Gauss-Siedel may not work if the condition \"diagonal dominance\" is not satisified.\n",
    "\n",
    "Some of the advantages of Gauss-Seidel method as described in textbooks are:\n",
    "\n",
    "_It is relatively simple and easy to implement, and can be used to solve large systems of equations\n",
    "_It can be used to solve sparse systems of equations\n",
    "_It can be used to solve non-symmetric and non-positive definite systems of equations\n",
    "\n",
    "Some of the disadvantages of Gauss-Seidel method as described in textbooks are:\n",
    "\n",
    "_The method may converge slowly or not converge at all for certain types of systems of equations\n",
    "_The method can be sensitive to the choice of initial guess and the order of the equations\n",
    "_The method can be sensitive to round-off errors\n",
    "_The method converges to the solution only if the matrix is diagonally dominant or positive definite.\n",
    "\n",
    "\n",
    "\"\"\""
   ]
  }
 ],
 "metadata": {
  "kernelspec": {
   "display_name": "python_ml",
   "language": "python",
   "name": "python_ml"
  },
  "language_info": {
   "codemirror_mode": {
    "name": "ipython",
    "version": 3
   },
   "file_extension": ".py",
   "mimetype": "text/x-python",
   "name": "python",
   "nbconvert_exporter": "python",
   "pygments_lexer": "ipython3",
   "version": "3.9.0"
  }
 },
 "nbformat": 4,
 "nbformat_minor": 5
}
