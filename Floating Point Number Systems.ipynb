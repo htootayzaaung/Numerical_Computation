{
 "cells": [
  {
   "cell_type": "code",
   "execution_count": 1,
   "id": "bf4d8f00",
   "metadata": {},
   "outputs": [
    {
     "name": "stdout",
     "output_type": "stream",
     "text": [
      "Total numbers possible in the system: 12601.0\n",
      "The largest number is 999.0.\n"
     ]
    }
   ],
   "source": [
    "import numpy as np\n",
    "def largest(b,t,l,u):\n",
    "    y = np.float64(0)\n",
    "    b = np.float64(b)\n",
    "    t = int(t)\n",
    "    l = np.float64(l) \n",
    "    u = np.float64(u)\n",
    "    nos = 1\n",
    "    for j in range(t):\n",
    "        if j == 0:\n",
    "            nos =nos* (b-1)\n",
    "        else:\n",
    "            nos = nos*(b)\n",
    "    nos = nos * 2 *(u+abs(l)+1) + 1\n",
    "    for i in range(t):\n",
    "        y = y + b**(-i-1)*(b-1)\n",
    "    print('Total numbers possible in the system:',nos)\n",
    "    return b**u*y\n",
    "\n",
    "print(f\"The largest number is {largest(10,3,-3,3)}.\")"
   ]
  }
 ],
 "metadata": {
  "kernelspec": {
   "display_name": "python_ml",
   "language": "python",
   "name": "python_ml"
  },
  "language_info": {
   "codemirror_mode": {
    "name": "ipython",
    "version": 3
   },
   "file_extension": ".py",
   "mimetype": "text/x-python",
   "name": "python",
   "nbconvert_exporter": "python",
   "pygments_lexer": "ipython3",
   "version": "3.9.0"
  }
 },
 "nbformat": 4,
 "nbformat_minor": 5
}
