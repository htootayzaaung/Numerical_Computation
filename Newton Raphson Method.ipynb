{
 "cells": [
  {
   "cell_type": "code",
   "execution_count": 16,
   "id": "b72e9e6b",
   "metadata": {},
   "outputs": [
    {
     "name": "stdout",
     "output_type": "stream",
     "text": [
      "1:  1.5\n",
      "2:  1.2962962962962963\n",
      "3:  1.2609322247417485\n",
      "\n",
      "Number of iterations: 3\n",
      "The root is 1.26093 in 5 decimal places.\n"
     ]
    }
   ],
   "source": [
    "x = 2   \n",
    "\n",
    "for i in range (3):\n",
    "    x_new = x - ((x ** 3) - 2) / (3 * (x ** 2))\n",
    "    print(f\"{i + 1}: \", x_new)\n",
    "    if abs(x_new - x) < 0.000001:\n",
    "        break\n",
    "    x = x_new\n",
    "\n",
    "print()\n",
    "print(f\"Number of iterations: {i + 1}\")\n",
    "print(\"The root is %0.5f in 5 decimal places.\" % x)"
   ]
  },
  {
   "cell_type": "code",
   "execution_count": null,
   "id": "765ae490",
   "metadata": {},
   "outputs": [],
   "source": [
    "\"\"\"\n",
    "Advantages of Newton-Raphson method:\n",
    "\n",
    "_Fast convergence: Newton-Raphson method has a quadratic convergence rate, which means that it can converge \n",
    "to the root of the function very quickly, especially if the initial guess is close to the root.\n",
    "\n",
    "_Can handle non-linear functions: Newton-Raphson method can be used to find the roots of non-linear functions, \n",
    "which can be difficult to solve using other methods.\n",
    "\n",
    "_Robustness: Newton-Raphson method is relatively robust, meaning that it can handle a wide range of problems, \n",
    "including those with multiple roots or singularities.\n",
    "\n",
    "Disadvantages of Newton-Raphson method:\n",
    "\n",
    "_Requires the first and second derivative of the function: Newton-Raphson method requires the first and \n",
    "second derivatives of the function, which can be difficult to compute for some functions.\n",
    "\n",
    "_Sensitivity to initial guess: Newton-Raphson method can be sensitive to the initial guess, meaning that \n",
    "it may converge to a different root or not converge at all if the initial guess is not close enough to \n",
    "the true root.\n",
    "\n",
    "_Can get stuck in local minima: Newton-Raphson method can get stuck in a local minimum if the initial guess is close to a local minimum rather than a global minimum.\n",
    "Requires the function to be differentiable.\n",
    "\n",
    "\"\"\""
   ]
  }
 ],
 "metadata": {
  "kernelspec": {
   "display_name": "python_ml",
   "language": "python",
   "name": "python_ml"
  },
  "language_info": {
   "codemirror_mode": {
    "name": "ipython",
    "version": 3
   },
   "file_extension": ".py",
   "mimetype": "text/x-python",
   "name": "python",
   "nbconvert_exporter": "python",
   "pygments_lexer": "ipython3",
   "version": "3.9.0"
  }
 },
 "nbformat": 4,
 "nbformat_minor": 5
}
