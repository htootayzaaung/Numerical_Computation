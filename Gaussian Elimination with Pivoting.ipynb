{
 "cells": [
  {
   "cell_type": "code",
   "execution_count": 1,
   "id": "706b881f",
   "metadata": {},
   "outputs": [
    {
     "name": "stdout",
     "output_type": "stream",
     "text": [
      "Final solution: [2.0, 0.0, 1000.0]\n"
     ]
    }
   ],
   "source": [
    "\"\"\"\n",
    "Gaussian Elimination with Pivotting\n",
    "\n",
    "_Pivotting aims at improving diagonal dominance of the coefficient matrix, that is making the pivot element as large\n",
    "as possible in comparison to other elements on the row.\n",
    "\n",
    "_Gaussian elimination with pivotting can be used in cases where the \"diagonal dominance\" is not met.\n",
    "\n",
    "_Pivotting can also help avoiding the difficulties than can arise, such as division by small numbers or even \n",
    "reducing the condition number of matrix and the error in the solution.\n",
    "\n",
    "_However, it must be borne in mind that Guassian Elimination without pivotting can provide a good numerical stability\n",
    "for the Guassian elimination when solving for a system of linear equations.\n",
    "\n",
    "For example if \n",
    "\n",
    "    [2 -2 6]                                    [-2 4 3]\n",
    "A = [-2 4 3]   it is then pivotted into  ->     [-1 8 4]  which is more diagonally dominant!\n",
    "    [-1 8 4] ,                                  [2 -2 6]\n",
    "\n",
    "\"\"\"\n",
    "\n",
    "import numpy as np\n",
    "\n",
    "def gaussian_elimination_pivoting(A, b):\n",
    "    n = len(A)\n",
    "\n",
    "    # Gaussian elimination with partial pivoting\n",
    "    for i in range(n-1):\n",
    "        # Find pivot row\n",
    "        max_val = abs(A[i][i])\n",
    "        max_row = i\n",
    "        for k in range(i+1, n):\n",
    "            if abs(A[k][i]) > max_val:\n",
    "                max_val = abs(A[k][i])\n",
    "                max_row = k\n",
    "\n",
    "        # Swap current row with pivot row\n",
    "        A[i], A[max_row] = A[max_row], A[i]\n",
    "        b[i], b[max_row] = b[max_row], b[i]\n",
    "\n",
    "        # Eliminate all knowns from pivot column\n",
    "        for k in range(i+1, n):\n",
    "            c = -A[k][i]/A[i][i]\n",
    "            for j in range(i, n):\n",
    "                A[k][j] += c*A[i][j]\n",
    "            b[k] += c*b[i]\n",
    "\n",
    "    # Back substitution\n",
    "    x = [0]*n\n",
    "    for i in range(n-1, -1, -1):\n",
    "        x[i] = (b[i] - sum(A[i][k]*x[k] for k in range(i+1, n))) / A[i][i]\n",
    "    return x\n",
    "\n",
    "# A = [[2, -2, 6], [-2, 4, 3], [-1, 8, 4]]\n",
    "# b = [16, 0, -1]\n",
    "\n",
    "A = [[0, 1, 0], [1, 1.001, 1], [100, 100, 0]]\n",
    "b = [0, 1002, 200]\n",
    "\n",
    "solution = gaussian_elimination_pivoting(A, b)         #Please do not use np.array for some reason it's causing the\n",
    "print(\"Final solution:\", solution)                     #inflow error!"
   ]
  },
  {
   "cell_type": "code",
   "execution_count": null,
   "id": "23468ab8",
   "metadata": {},
   "outputs": [],
   "source": [
    "\"\"\"\n",
    "Advantages of Gaussian elimination with pivoting:\n",
    "\n",
    "_Improved numerical stability: Pivoting can help avoid large cancellations or round-off errors that can \n",
    "occur in the standard Gaussian elimination method.\n",
    "\n",
    "_Improved accuracy: Pivoting can help ensure that the leading coefficient of each column is as large as \n",
    "possible, which can help reduce the effect of round-off errors and improve the accuracy of the solution.\n",
    "\n",
    "_Handling of singular or near-singular matrices: Pivoting can help ensure that the system has a unique \n",
    "solution, even if the matrix is singular or nearly singular.\n",
    "\n",
    "Disadvantages of Gaussian elimination with pivoting:\n",
    "\n",
    "_Increased computational complexity: Pivoting requires additional operations to find the pivot element \n",
    "and swap rows, which can increase the computational complexity of the algorithm.\n",
    "\n",
    "_Increased memory usage: Pivoting requires additional memory to store the pivot element and the row swaps, \n",
    "which can increase the memory usage of the algorithm.\n",
    "\n",
    "_Pivoting can be less effective when dealing with poorly scaled or ill-conditioned matrices.\n",
    "\"\"\"\n",
    "\n"
   ]
  }
 ],
 "metadata": {
  "kernelspec": {
   "display_name": "python_ml",
   "language": "python",
   "name": "python_ml"
  },
  "language_info": {
   "codemirror_mode": {
    "name": "ipython",
    "version": 3
   },
   "file_extension": ".py",
   "mimetype": "text/x-python",
   "name": "python",
   "nbconvert_exporter": "python",
   "pygments_lexer": "ipython3",
   "version": "3.9.0"
  }
 },
 "nbformat": 4,
 "nbformat_minor": 5
}
