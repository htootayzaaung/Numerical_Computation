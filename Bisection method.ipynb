{
 "cells": [
  {
   "cell_type": "code",
   "execution_count": 15,
   "id": "9f7fa774",
   "metadata": {},
   "outputs": [
    {
     "name": "stdout",
     "output_type": "stream",
     "text": [
      " i     x\n",
      " 1 1.000\n",
      " 2 1.500\n",
      " 3 1.250\n",
      " 4 1.375\n",
      "\n",
      "Number of iterations: 3\n",
      "\n",
      "The root is the last one.\n"
     ]
    }
   ],
   "source": [
    "\"\"\"\n",
    "Bisection method searches for the point that is embraced by two values of x having corresponding values of y having\n",
    "different signs.The interval between x values are halved and halved until the bisection converges towards the root.\n",
    "\n",
    "Consider f(x) = 2 * (x ** 2) - (5 * x) + 3 and the interval [0, 1.3]\n",
    "\n",
    "\"\"\"\n",
    "\n",
    "import pandas as pd\n",
    "import numpy as np\n",
    "import sys\n",
    "\n",
    "x1 = 0\n",
    "x2 = 2\n",
    "i_list = []\n",
    "xh_list = []\n",
    "\n",
    "y1 = x1 ** 3 - 2\n",
    "y2 = x2 ** 3 - 2\n",
    "\n",
    "if y1 * y2 > 0:\n",
    "    sys.exit(\"The root is not within the given interval!\")\n",
    "    \n",
    "for i in range(4):\n",
    "    xh = (x1 + x2) / 2\n",
    "    yh = xh ** 3 - 2\n",
    "    y1 = x1 ** 3 - 2\n",
    "    \n",
    "    i_list.append(i + 1)\n",
    "    xh_list.append(xh)\n",
    "    \n",
    "    if abs(y1) < 0.000001:\n",
    "        break\n",
    "    elif y1 * yh < 0:\n",
    "        x2 = xh\n",
    "    else:\n",
    "        x1 = xh\n",
    "        \n",
    "\n",
    "def create_table(iterations, x_values):\n",
    "    data = {\"i\": iterations, \"x\": x_values}\n",
    "    \n",
    "    df = pd.DataFrame(data).to_string(index = False)\n",
    "    return df\n",
    "\n",
    "print(create_table(i_list, xh_list))\n",
    "print(f\"\\nNumber of iterations: {i}\")\n",
    "print(\"\\nThe root is the last one.\")"
   ]
  },
  {
   "cell_type": "code",
   "execution_count": null,
   "id": "b0457e36",
   "metadata": {},
   "outputs": [],
   "source": [
    "\"\"\"\n",
    "Some of the advantages of the bisection method as described in textbook are:\n",
    "\n",
    "_The method is guaranteed to converge to a root if the function is continuous and the root is bracketed by \n",
    "the initial interval.\n",
    "_It is a robust method that can work well even for highly nonlinear functions\n",
    "\n",
    "\n",
    "Some of the disadvantages of the bisection method as described in textbooks are:\n",
    "\n",
    "_The method is relatively slow and may converge slowly for some functions\n",
    "_The method does not provide any information about the nature of the root (i.e., whether it is a minimum or \n",
    "maximum, etc.)\n",
    "_The method may fail to converge if the function is not continuous or if the root is not bracketed by the \n",
    "initial interval.\n",
    "_It can also be sensitive to the presence of multiple roots or discontinuities in the function, which\n",
    "can cause it to converge to the wrong root.\n",
    "\n",
    "\"\"\"\n"
   ]
  }
 ],
 "metadata": {
  "kernelspec": {
   "display_name": "python_ml",
   "language": "python",
   "name": "python_ml"
  },
  "language_info": {
   "codemirror_mode": {
    "name": "ipython",
    "version": 3
   },
   "file_extension": ".py",
   "mimetype": "text/x-python",
   "name": "python",
   "nbconvert_exporter": "python",
   "pygments_lexer": "ipython3",
   "version": "3.9.0"
  }
 },
 "nbformat": 4,
 "nbformat_minor": 5
}
