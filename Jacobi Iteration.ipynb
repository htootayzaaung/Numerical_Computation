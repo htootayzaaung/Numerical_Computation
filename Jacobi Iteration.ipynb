{
 "cells": [
  {
   "cell_type": "code",
   "execution_count": 23,
   "id": "8d03d7b3",
   "metadata": {},
   "outputs": [
    {
     "name": "stdout",
     "output_type": "stream",
     "text": [
      "Last Iteration:  31\n",
      "Solution: [ 0.36500668 -0.23378501  0.28506797 -0.20362037]\n"
     ]
    }
   ],
   "source": [
    "\"\"\"\n",
    "Jacobi's Iteration\n",
    "\n",
    "_Iterative method to solve the linear systems.\n",
    "_It has the same concepts to that of simple iteration methods where system of linear equations is rearranged and \n",
    "values of the unkown variables are substituted starting with the initial guess to obtain new values.\n",
    "_The resulting set of values is substituted again at each iteration until the condition of convergence is satisfied\n",
    "for the whole system.\n",
    "\n",
    "Suppose the following linear systems:\n",
    "\n",
    "    Ax = b\n",
    "        \n",
    "    [2,  1] [x1] = [3.5]     Here A11 = 2, A12 = 1, A21 = -1 and A22 = 4\n",
    "    [-1, 4] [x2]   [0.5]     Here b1 = 3.5 and b2 = 0.5\n",
    "\n",
    "x^(0) = (2, 1)^T             Here x1^(0) = 2 and x2^(0) = 1 for the initial values\n",
    "\n",
    "First Iteration: \n",
    "\n",
    "    x1^(1) = x1^(0) + (1 / A11)(b1 - A11 * x1^(0) - A12 * x2^(0))                   Note that x1 and x2 should   \n",
    "                                                                                    be written in lower subscript!\n",
    "    x2^(1) = x2^(0) + (1 / A22)(b2 - A21 * x1^(0) - A22 * x^2(0))\n",
    "    \n",
    "    \n",
    "    x1^(1) = 2 + (1 / 2)(3.5 - 2 * 2 - 1 * 1) = 1.25\n",
    "\n",
    "    x2^(1) = 1 + (1 / 4)(0.5 -(-1) * 2 - 4 * 1) = 0.625\n",
    "    \n",
    "\n",
    "Second Iteration:\n",
    "\n",
    "    x1^(2) = x1^(1) + (1 / A11)(b1 - A11 * x1^(1) - A12 * x2^(1))\n",
    "    \n",
    "    x2^(2) = x2^(1) + (1 / A22)(b2 - A21 * x1^(1) - A22 * x^2(1))\n",
    "    \n",
    "\n",
    "Note this method is tested and working 100% for n x n, to avoid the confusion as shown above just plug the arrays\n",
    "to the method!\n",
    "\n",
    "_where A is a matrix that contains all the coefficients\n",
    "_x is a vector that contains all the solutions: x1, x2, x3, ... xn\n",
    "_b is a vector that contains all the constants\n",
    "\n",
    "\"\"\"\n",
    "\n",
    "import numpy as np\n",
    "\n",
    "def jacobi(A, b, x0, epsilon=1e-6, max_iter=1000):\n",
    "    n = len(A)\n",
    "    x = np.copy(x0)\n",
    "    D = np.diag(np.diag(A))\n",
    "    R = A - D\n",
    "    iteration = 0\n",
    "    while iteration < max_iter:\n",
    "        x_new = np.dot(np.linalg.inv(D), b - np.dot(R, x))\n",
    "        iteration += 1\n",
    "        if np.linalg.norm(x_new - x) < epsilon:\n",
    "            print(\"Last Iteration: \",iteration)\n",
    "            print(\"Solution:\",x_new)\n",
    "            break\n",
    "        x = np.copy(x_new)\n",
    "    return x\n",
    "\n",
    "# Example usage\n",
    "\n",
    "A = np.array([[4, 1, 2, -1],\n",
    "             [3, 6, -1, 2],\n",
    "             [2, -1, 5, -3],\n",
    "             [4, 1, -3, -8]], float)\n",
    "\n",
    "b = np.array([2, -1, 3, 2], float)\n",
    "x0 = np.array([1, 1, 1, 1], float)\n",
    "x = jacobi(A, b, x0)"
   ]
  },
  {
   "cell_type": "code",
   "execution_count": 3,
   "id": "b6fd2b7d",
   "metadata": {},
   "outputs": [
    {
     "name": "stdout",
     "output_type": "stream",
     "text": [
      "Iteration 1: [1.5 1.5]\n",
      "Iteration 2: [0.75 0.75]\n",
      "Iteration 3: [1.125 1.125]\n",
      "Iteration 4: [0.9375 0.9375]\n",
      "Iteration 5: [1.03125 1.03125]\n",
      "Iteration 6: [0.984375 0.984375]\n",
      "Iteration 7: [1.0078125 1.0078125]\n",
      "Iteration 8: [0.99609375 0.99609375]\n",
      "Iteration 9: [1.00195312 1.00195312]\n",
      "Iteration 10: [0.99902344 0.99902344]\n",
      "Solution: [0.99902344 0.99902344]\n"
     ]
    }
   ],
   "source": [
    "import numpy as np\n",
    "\n",
    "def jacobi(A, b, x0, max_iter):\n",
    "    n = len(A)\n",
    "    x = np.copy(x0)\n",
    "    D = np.diag(np.diag(A))\n",
    "    R = A - D\n",
    "    iteration = 0\n",
    "    while iteration < max_iter:\n",
    "        x_new = np.dot(np.linalg.inv(D), b - np.dot(R, x))\n",
    "        iteration += 1\n",
    "        print(\"Iteration {}:\".format(iteration), x_new)\n",
    "        if np.linalg.norm(x_new - x) < 1e-6:\n",
    "            break\n",
    "        x = np.copy(x_new)\n",
    "    return x\n",
    "\n",
    "# Example usage\n",
    "# A = np.array([[2, 1], [-1, 4]])\n",
    "# b = np.array([3.5, 0.5])\n",
    "A = np.array([[2, 1], [1, 2]], float)            #change!\n",
    "b = np.array([3, 3], float)                      #change!\n",
    "x0 = np.array([0, 0])                            #change!\n",
    "\n",
    "x = jacobi(A, b, x0, 10)\n",
    "print(\"Solution:\", x)"
   ]
  },
  {
   "cell_type": "code",
   "execution_count": 25,
   "id": "5eba9ec2",
   "metadata": {},
   "outputs": [
    {
     "name": "stdout",
     "output_type": "stream",
     "text": [
      "Last Iteration:  1\n",
      "Solution: [-0.2         0.22222222 -0.42857143]\n"
     ]
    }
   ],
   "source": [
    "A = np.array([[5, -2, 3], [-3, 9, 1], [2, -1, -7]])\n",
    "b = np.array([-1, 2, 3])\n",
    "x0 = np.array([0, 0, 0])\n",
    "x = jacobi(A, b, x0, 1)\n"
   ]
  },
  {
   "cell_type": "code",
   "execution_count": null,
   "id": "357073ea",
   "metadata": {},
   "outputs": [],
   "source": [
    "\"\"\"\n",
    "Disadvantages of Jacobi and Gauss-Siedel method.\n",
    "\n",
    "Before applying either Jacobi or Gauss-Siedel method, an important condition for convergence should be satisfied.\n",
    "It is known as the \"diagonal dominance\" where the absolute value of the element in the main element in the main \n",
    "diagonal in each row should be larger than the other elements in that role.\n",
    "\n",
    "There may be times where Jacobi or Guass-Siedel method may not obey this condition.\n",
    "\n",
    "\"\"\""
   ]
  },
  {
   "cell_type": "code",
   "execution_count": null,
   "id": "3fb192ee",
   "metadata": {},
   "outputs": [],
   "source": [
    "\"\"\"\n",
    "Advantages of Jacobi iteration:\n",
    "\n",
    "_Simple to implement: The Jacobi iteration method is relatively simple to implement and does not require \n",
    "advanced mathematical knowledge.\n",
    "\n",
    "_Less computationally expensive: The Jacobi iteration method is less computationally expensive than direct \n",
    "methods such as Gaussian elimination.\n",
    "\n",
    "_Can be easily parallelized: The Jacobi iteration method is easily parallelizable, which can lead to \n",
    "significant speedup on parallel computers.\n",
    "\n",
    "_Converges to the solution if the matrix is diagonally dominant or symmetric and positive definite\n",
    "\n",
    "\n",
    "Disadvantages of Jacobi iteration:\n",
    "\n",
    "_Slow convergence: The Jacobi iteration method can converge slowly, especially for systems with large condition \n",
    "numbers.\n",
    "\n",
    "_Sensitivity to initial guess: The Jacobi iteration method can be sensitive to the initial guess, meaning that \n",
    "it may converge to a different solution or not converge at all if the initial guess is not close enough to the \n",
    "true solution.\n",
    "\n",
    "_Convergence is not guaranteed: The Jacobi iteration method does not always converge to the solution, so it can \n",
    "be difficult to determine when to stop the iteration.\n",
    "\n",
    "_Requires the matrix should be diagonally dominant or symmetric and positive definite for the method to converge.\n",
    "\n",
    "\"\"\"\n"
   ]
  }
 ],
 "metadata": {
  "kernelspec": {
   "display_name": "python_ml",
   "language": "python",
   "name": "python_ml"
  },
  "language_info": {
   "codemirror_mode": {
    "name": "ipython",
    "version": 3
   },
   "file_extension": ".py",
   "mimetype": "text/x-python",
   "name": "python",
   "nbconvert_exporter": "python",
   "pygments_lexer": "ipython3",
   "version": "3.9.0"
  }
 },
 "nbformat": 4,
 "nbformat_minor": 5
}
