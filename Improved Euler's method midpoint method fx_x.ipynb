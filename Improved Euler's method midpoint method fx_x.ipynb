{
 "cells": [
  {
   "cell_type": "code",
   "execution_count": 7,
   "id": "e8b2ca33",
   "metadata": {},
   "outputs": [
    {
     "name": "stdout",
     "output_type": "stream",
     "text": [
      "     x         y     dy/dx    hdy/dx\n",
      "0  0.5  1.625000 -1.015625 -0.375000\n",
      "1  1.0  1.370598 -0.507941 -0.254402\n",
      "2  1.5  1.219118 -0.267131 -0.151480\n"
     ]
    },
    {
     "data": {
      "image/png": "[encoded data removed]",
      "text/plain": [
       "<Figure size 432x288 with 1 Axes>"
      ]
     },
     "metadata": {
      "needs_background": "light"
     },
     "output_type": "display_data"
    },
    {
     "name": "stdout",
     "output_type": "stream",
     "text": [
      "Solution at t = 1 : 1.219117923078053\n"
     ]
    }
   ],
   "source": [
    "import pandas as pd\n",
    "import matplotlib.pyplot as plt\n",
    "\n",
    "def midpoint_euler(f, x0, y0, x_end, h):\n",
    "    x = x0\n",
    "    y = y0\n",
    "    results = []\n",
    "    while x <= x_end:\n",
    "        k1 = h * f(y)\n",
    "        k2 = h * f(y + (k1/2))\n",
    "        y = y + k2\n",
    "        x = x + h\n",
    "        results.append([x, y, f(y), k2])\n",
    "    df = pd.DataFrame(results, columns=['x', 'y', 'dy/dx', 'hdy/dx'])\n",
    "    print(df)\n",
    "    \n",
    "    plt.plot(df['x'], df['y'])\n",
    "    plt.plot(df['x'], df['dy/dx'])\n",
    "    plt.xlabel('x')\n",
    "    plt.ylabel('y')\n",
    "    plt.legend(['function', 'derivative'])\n",
    "    plt.title('Euler Method')\n",
    "    plt.grid()\n",
    "    plt.show()\n",
    "    return y\n",
    "\n",
    "# Test case\n",
    "dy_dx = lambda y : y * (1 - y)\n",
    "\n",
    "x0 = 0\n",
    "y0 = 2\n",
    "x_end = 1\n",
    "h = 0.5\n",
    "\n",
    "solution = midpoint_euler(dy_dx, x0, y0, x_end, h)\n",
    "print(\"Solution at t =\", x_end, \":\", solution)\n"
   ]
  }
 ],
 "metadata": {
  "kernelspec": {
   "display_name": "python_ml",
   "language": "python",
   "name": "python_ml"
  },
  "language_info": {
   "codemirror_mode": {
    "name": "ipython",
    "version": 3
   },
   "file_extension": ".py",
   "mimetype": "text/x-python",
   "name": "python",
   "nbconvert_exporter": "python",
   "pygments_lexer": "ipython3",
   "version": "3.9.0"
  }
 },
 "nbformat": 4,
 "nbformat_minor": 5
}
