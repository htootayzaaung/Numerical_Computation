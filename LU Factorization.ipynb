{
 "cells": [
  {
   "cell_type": "code",
   "execution_count": 8,
   "id": "972cb856",
   "metadata": {},
   "outputs": [
    {
     "name": "stdout",
     "output_type": "stream",
     "text": [
      "Upper triangle:\n",
      " [[1.  0.  0. ]\n",
      " [0.5 1.  0. ]\n",
      " [1.  3.  1. ]] \n",
      "\n",
      "Lower triangle:\n",
      " [[2 1 4]\n",
      " [0 1 0]\n",
      " [0 0 2]] \n",
      "\n"
     ]
    }
   ],
   "source": [
    "import numpy as np\n",
    "\n",
    "def LU_factorization(A):\n",
    "    n = len(A)\n",
    "    L = np.eye(n)\n",
    "    U = A.copy()\n",
    "    for j in range(n):\n",
    "        for i in range(j+1, n):\n",
    "            L[i, j] = U[i, j] / U[j, j]\n",
    "            for k in range(j, n):\n",
    "                U[i, k] = U[i, k] - L[i, j] * U[j, k]\n",
    "    return L, U\n",
    "\n",
    "A = np.array([[2, 1, 4], [1, 2, 2], [2, 4, 6]])           #don't put float as a parameter for this array\n",
    "L, U = LU_factorization(A)\n",
    "print(\"Upper triangle:\\n\", L, \"\\n\")\n",
    "print(\"Lower triangle:\\n\", U, \"\\n\")"
   ]
  },
  {
   "cell_type": "code",
   "execution_count": null,
   "id": "cda697a7",
   "metadata": {},
   "outputs": [],
   "source": [
    "\"\"\"\n",
    "Advantages of LU factorization:\n",
    "\n",
    "_Direct method: LU factorization is a direct method, which means it will always find the exact solution if \n",
    "one exists.\n",
    "\n",
    "_Computationally efficient: LU factorization is computationally efficient, especially for sparse matrices \n",
    "and large systems of equations.\n",
    "\n",
    "_Good numerical stability: LU factorization is less prone to round-off errors than other direct methods such \n",
    "as Gaussian elimination.\n",
    "\n",
    "_Can be used to solve multiple systems with the same coefficient matrix.\n",
    "\n",
    "_Can be used to calculate determinant and inverses of matrix.\n",
    "\n",
    "\n",
    "Disadvantages of LU factorization:\n",
    "\n",
    "_Does not work for singular matrices: LU factorization cannot be used to solve systems of equations if \n",
    "the coefficient matrix A is singular.\n",
    "\n",
    "_Requires additional memory: LU factorization requires additional memory to store the L and U matrices.\n",
    "\n",
    "_Numerical instability: LU factorization can be sensitive to perturbations of the matrix A, which can \n",
    "lead to numerical instability and large errors in the solution.\n",
    "\n",
    "_Not always stable for large system of equations with high condition numbers.\n",
    "\"\"\""
   ]
  }
 ],
 "metadata": {
  "kernelspec": {
   "display_name": "python_ml",
   "language": "python",
   "name": "python_ml"
  },
  "language_info": {
   "codemirror_mode": {
    "name": "ipython",
    "version": 3
   },
   "file_extension": ".py",
   "mimetype": "text/x-python",
   "name": "python",
   "nbconvert_exporter": "python",
   "pygments_lexer": "ipython3",
   "version": "3.9.0"
  }
 },
 "nbformat": 4,
 "nbformat_minor": 5
}
