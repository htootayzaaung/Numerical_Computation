{
 "cells": [
  {
   "cell_type": "code",
   "execution_count": 29,
   "id": "a3aa4470",
   "metadata": {},
   "outputs": [
    {
     "name": "stdout",
     "output_type": "stream",
     "text": [
      "x1: 2\n",
      "x2: 0\n",
      "root = 1.500000 at 14 iterations\n"
     ]
    }
   ],
   "source": [
    "\"\"\"\n",
    "Secant methood formula: x[i + 2] = x[i + 1] - ((x[i + 1] - x[i]) / (f(y[i + 1]) - f(y[i])) * f(y[i + 1])\n",
    "\n",
    "x[i + 2] = x[i + 1] - ((x[i + 1] - x[i]) / (y[i + 1] - y[i])) * y[i + 1]\n",
    "\n",
    "x3 = x2 - ((x2 - x1) / y2 - y1)) * y2\n",
    "\n",
    "Secant method:\n",
    "\n",
    "xn+2 = xn+1 - ((xn+1 -xn) / (xn+1 - yn)) * yn+1\n",
    "\n",
    "x3 = x2 - ((x2 - x1) / f(x2) - f(x1))) * f(x2)\n",
    "\n",
    "x4 = x3 - ((x3 - x2) / f(x3) - f(x2))) * f(x3)\n",
    "\n",
    "and so on...\n",
    "\n",
    "Suppose f(x) = 2 * (x ** 2) + 5 * x + 3 = 0      the interval [2, 0]\n",
    "\n",
    "\"\"\"\n",
    "import numpy as np\n",
    "\n",
    "def secant(fn, x1, x2, tolerance, max_iterations):\n",
    "    for i in range(max_iterations):\n",
    "        x_new = x2 - (x2 - x1) / (fn(x2) - fn(x1)) * fn(x2)\n",
    "        if abs(x_new - x2) < tolerance:\n",
    "            return x_new, i\n",
    "        else:\n",
    "            x1 = x2\n",
    "            x2 = x_new\n",
    "    else:\n",
    "        (\"Warning: Maximum number of iterations is reached! Still the solution has not been attained!\")\n",
    "\n",
    "function = lambda x: (2 * (x ** 2)) - (5 * x) + 3\n",
    "x1 = 2\n",
    "x2 = 0\n",
    "\n",
    "root, iterations = secant(function, x1, x2, 0.000001, 100)   #tolerance 1.e-6 (6 decimal places)\n",
    "print(f\"x1: {x1}\\nx2: {x2}\")\n",
    "print(\"root = %.6f at %d iterations\" % (root, iterations))       "
   ]
  },
  {
   "cell_type": "code",
   "execution_count": 3,
   "id": "12979178",
   "metadata": {},
   "outputs": [
    {
     "name": "stdout",
     "output_type": "stream",
     "text": [
      "Enter x1: 2\n",
      "Enter x2: 0\n",
      "\n",
      "Iteration1 = 3.0\n",
      "Iteration2 = -3.0\n",
      "Iteration3 = 4.2\n",
      "Iteration4 = 10.846153846153847\n",
      "Iteration5 = 3.511342734518701\n",
      "Iteration6 = 3.0853530723168316\n",
      "Iteration7 = 2.2783561518848643\n",
      "Iteration8 = 1.9308989566115478\n",
      "Iteration9 = 1.6962216476944767\n",
      "Iteration10 = 1.5750156664097255\n",
      "Iteration11 = 1.519085821441241\n",
      "Iteration12 = 1.502409917570768\n",
      "Iteration13 = 1.5000881987195733\n",
      "Iteration14 = 1.5000004229899317\n",
      "Iteration15 = 1.5000000000746017\n",
      "\n",
      "root = 1.500000 at 14 iterations\n"
     ]
    }
   ],
   "source": [
    "import numpy as np\n",
    "\n",
    "def secant(fn, x1, x2, tol, maxiter):\n",
    "    for iteration in range (maxiter):\n",
    "        xnew = x2 - (x2 - x1) / (fn(x2) - fn(x1)) * fn(x2)\n",
    "        print(f\"Iteration{iteration + 1} = {xnew}\")\n",
    "        if abs(xnew - x2) < tol:\n",
    "            break\n",
    "        else:\n",
    "            x1 = x2\n",
    "            x2 = xnew\n",
    "    else:\n",
    "        print(\"Warining: Maximum number of iterations is reached!\")\n",
    "    return xnew, iteration\n",
    "\n",
    "f = lambda x : 2*x**2 - 5*x + 3\n",
    "x1 = float(input(\"Enter x1: \"))\n",
    "x2 = float(input(\"Enter x2: \"))\n",
    "print()\n",
    "\n",
    "r, n = secant(f, x1, x2, 0.000001, 100)\n",
    "print()\n",
    "print(\"root = %.6f at %d iterations\" % (r, n))       "
   ]
  },
  {
   "cell_type": "code",
   "execution_count": null,
   "id": "01996c26",
   "metadata": {},
   "outputs": [],
   "source": [
    "\"\"\"\n",
    "Advantages of Secant method:\n",
    "\n",
    "_Fast convergence: Secant method has a faster convergence rate than bisection method and it can converge \n",
    "to the root of the function quickly if the initial guesses are close to the root.\n",
    "\n",
    "_Can handle non-linear functions: Secant method can be used to find the roots of non-linear functions, which \n",
    "can be difficult to solve using other methods.\n",
    "\n",
    "_Works well for functions that are difficult or impossible to differentiate: Secant method does not require\n",
    "the derivative of the function, so it can be used for functions that are difficult or impossible to differentiate.\n",
    "\n",
    "\n",
    "Disadvantages of Secant method:\n",
    "\n",
    "_Sensitivity to initial guess: Secant method can be sensitive to the initial guesses, meaning that it may \n",
    "converge to a different root or not converge at all if the initial guesses are not close enough to the true root.\n",
    "\n",
    "_Can get stuck in local minima: Secant method can get stuck in a local minimum if the initial guess is close \n",
    "to a local minimum rather than a global minimum.\n",
    "\n",
    "_Convergence rate is slower than the Newton-Raphson method if the initial guesses are close to the root.\n",
    "\n",
    "\"\"\""
   ]
  }
 ],
 "metadata": {
  "kernelspec": {
   "display_name": "python_ml",
   "language": "python",
   "name": "python_ml"
  },
  "language_info": {
   "codemirror_mode": {
    "name": "ipython",
    "version": 3
   },
   "file_extension": ".py",
   "mimetype": "text/x-python",
   "name": "python",
   "nbconvert_exporter": "python",
   "pygments_lexer": "ipython3",
   "version": "3.9.0"
  }
 },
 "nbformat": 4,
 "nbformat_minor": 5
}
