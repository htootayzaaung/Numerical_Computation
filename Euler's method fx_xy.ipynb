{
 "cells": [
  {
   "cell_type": "code",
   "execution_count": 37,
   "id": "a45d1663",
   "metadata": {},
   "outputs": [
    {
     "name": "stdout",
     "output_type": "stream",
     "text": [
      "      x         y      dy/dx    hdy/dx\n",
      "0   0.0  1.000000   1.000000  0.100000\n",
      "1   0.1  1.100000   1.220000  0.122000\n",
      "2   0.2  1.222000   1.533284  0.153328\n",
      "3   0.3  1.375328   1.981528  0.198153\n",
      "4   0.4  1.573481   2.635843  0.263584\n",
      "5   0.5  1.837066   3.624810  0.362481\n",
      "6   0.6  2.199547   5.198005  0.519800\n",
      "7   0.7  2.719347   7.884848  0.788485\n",
      "8   0.8  3.507832  12.944884  1.294488\n",
      "9   0.9  4.802320  23.872279  2.387228\n",
      "10  1.0  7.189548  52.689603  5.268960\n"
     ]
    },
    {
     "data": {
      "image/png": "[encoded data removed]",
      "text/plain": [
       "<Figure size 432x288 with 1 Axes>"
      ]
     },
     "metadata": {
      "needs_background": "light"
     },
     "output_type": "display_data"
    },
    {
     "name": "stdout",
     "output_type": "stream",
     "text": [
      "Solution at x = 1 : 12.45850843419808\n"
     ]
    }
   ],
   "source": [
    "\"\"\"\n",
    "Euler's method\n",
    "\n",
    "dy/dx = f(x, y)             f(x, y) contains the terms x and y in it's derivative\n",
    "\n",
    "Consider dy/dx = (x ** 2) + (y ** 2)\n",
    "\n",
    "You will see that smaller the dx the better the approximations.\n",
    "\n",
    "This also means that in problems that involves rate of change the smaller the dt, the better the approximations.\n",
    "\n",
    "\"\"\"\n",
    "\n",
    "import pandas as pd\n",
    "import matplotlib.pyplot as plt\n",
    "\n",
    "def euler(f, x0, y0, x_end, h):\n",
    "    x = x0\n",
    "    y = y0\n",
    "    data = {'x': [], 'y': [], 'dy/dx': [], 'hdy/dx': []}\n",
    "    while x < x_end:\n",
    "        dy_dx = f(x, y)\n",
    "        hdy_dx = h * dy_dx\n",
    "        data['x'].append(x)\n",
    "        data['y'].append(y)\n",
    "        data['dy/dx'].append(dy_dx)\n",
    "        data['hdy/dx'].append(hdy_dx)\n",
    "        y = y + hdy_dx\n",
    "        x = x + h\n",
    "    df = pd.DataFrame(data)\n",
    "\n",
    "    print(df)\n",
    "    \n",
    "    plt.plot(df['x'], df['y'])\n",
    "    plt.plot(df['x'], df['dy/dx'])\n",
    "    plt.xlabel('x')\n",
    "    plt.ylabel('y')\n",
    "    plt.legend(['function', 'derivative'])\n",
    "    plt.title('Euler Method')\n",
    "    plt.grid()\n",
    "    plt.show()\n",
    "    return y\n",
    "\n",
    "dy_dx = lambda x, y: (x ** 2) + (y ** 2) \n",
    "x0 = 0\n",
    "y0 = 1\n",
    "x_end = 1\n",
    "h = 0.1\n",
    "\n",
    "solution = euler(dy_dx, x0, y0, x_end, h)\n",
    "print(\"Solution at x =\", x_end, \":\", solution)"
   ]
  },
  {
   "cell_type": "code",
   "execution_count": 34,
   "id": "5f100143",
   "metadata": {},
   "outputs": [
    {
     "name": "stdout",
     "output_type": "stream",
     "text": [
      "       x         y      dy/dx    hdy/dx\n",
      "0   0.00  1.000000   1.000000  0.050000\n",
      "1   0.05  1.050000   1.105000  0.055250\n",
      "2   0.10  1.105250   1.231578  0.061579\n",
      "3   0.15  1.166829   1.383990  0.069199\n",
      "4   0.20  1.236028   1.567766  0.078388\n",
      "5   0.25  1.314417   1.790191  0.089510\n",
      "6   0.30  1.403926   2.061009  0.103050\n",
      "7   0.35  1.506977   2.393479  0.119674\n",
      "8   0.40  1.626651   2.805992  0.140300\n",
      "9   0.45  1.766950   3.324613  0.166231\n",
      "10  0.50  1.933181   3.987188  0.199359\n",
      "11  0.55  2.132540   4.850228  0.242511\n",
      "12  0.60  2.375052   6.000870  0.300044\n",
      "13  0.65  2.675095   7.578634  0.378932\n",
      "14  0.70  3.054027   9.817080  0.490854\n",
      "15  0.75  3.544881  13.128681  0.656434\n",
      "16  0.80  4.201315  18.291047  0.914552\n",
      "17  0.85  5.115867  26.894599  1.344730\n",
      "18  0.90  6.460597  42.549317  2.127466\n",
      "19  0.95  8.588063  74.657328  3.732866\n"
     ]
    },
    {
     "data": {
      "image/png": "[encoded data removed]",
      "text/plain": [
       "<Figure size 432x288 with 1 Axes>"
      ]
     },
     "metadata": {
      "needs_background": "light"
     },
     "output_type": "display_data"
    },
    {
     "name": "stdout",
     "output_type": "stream",
     "text": [
      "Solution at x = 1 : 12.320929527485626\n"
     ]
    }
   ],
   "source": [
    "def euler(f, x0, y0, x_end, h):\n",
    "    x = x0\n",
    "    y = y0\n",
    "    data = {'x': [], 'y': [], 'dy/dx': [], 'hdy/dx': []}\n",
    "    while x < x_end:\n",
    "        dy_dx = f(x, y)\n",
    "        hdy_dx = h * dy_dx\n",
    "        data['x'].append(x)\n",
    "        data['y'].append(y)\n",
    "        data['dy/dx'].append(dy_dx)\n",
    "        data['hdy/dx'].append(hdy_dx)\n",
    "        y = y + hdy_dx\n",
    "        x = x + h\n",
    "    df = pd.DataFrame(data)\n",
    "\n",
    "    print(df)\n",
    "    \n",
    "    plt.plot(df['x'], df['y'])\n",
    "    plt.plot(df['x'], df['dy/dx'])\n",
    "    plt.xlabel('x')\n",
    "    plt.ylabel('y')\n",
    "    plt.legend(['function', 'derivative'])\n",
    "    plt.title('Euler Method')\n",
    "    plt.grid()\n",
    "    plt.show()\n",
    "    return y\n",
    "\n",
    "dy_dx = lambda x, y: (x ** 2) + (y ** 2) # dy/dx = x + y\n",
    "x0 = 0\n",
    "y0 = 1\n",
    "x_end = 1\n",
    "h = 0.05        #h = step-side = dx = the number of steps given within an interval\n",
    "\n",
    "solution = euler(dy_dx, x0, y0, x_end, h)\n",
    "print(\"Solution at x =\", x_end, \":\", solution)"
   ]
  },
  {
   "cell_type": "code",
   "execution_count": 6,
   "id": "afb713f5",
   "metadata": {},
   "outputs": [
    {
     "name": "stdout",
     "output_type": "stream",
     "text": [
      "      t         y     dy/dt    hdy/dt\n",
      "0  0.00  1.000000  1.000000  0.010000\n",
      "1  0.01  1.010000  0.980100  0.009801\n",
      "2  0.02  1.019801  0.960201  0.009602\n"
     ]
    },
    {
     "data": {
      "image/png": "[encoded data removed]",
      "text/plain": [
       "<Figure size 432x288 with 1 Axes>"
      ]
     },
     "metadata": {
      "needs_background": "light"
     },
     "output_type": "display_data"
    },
    {
     "name": "stdout",
     "output_type": "stream",
     "text": [
      "Solution at t = 0.02 : 1.02940301\n"
     ]
    }
   ],
   "source": [
    "\"\"\"\n",
    "Lecture 12 example:\n",
    "\n",
    "dy/dt = (-(y ** 2) + (1 / t))   for 1 >= t and t <= 2, t is between 1 and 2 inclusively\n",
    "\n",
    "t0 = 1\n",
    "y0 = 2\n",
    "t_end = 2\n",
    "dt = (2 - 1)/3\n",
    "\n",
    "\"\"\"\n",
    "import math\n",
    "import pandas as pd\n",
    "import matplotlib.pyplot as plt\n",
    "\n",
    "def euler(f, t0, y0, t_end, h):\n",
    "    t = t0\n",
    "    y = y0\n",
    "    data = {'t': [], 'y': [], 'dy/dt': [], 'hdy/dt': []}\n",
    "    while t <= t_end:\n",
    "        dy_dt = f(t, y)\n",
    "        hdy_dt = h * dy_dt\n",
    "        data['t'].append(t)\n",
    "        data['y'].append(y)\n",
    "        data['dy/dt'].append(dy_dt)\n",
    "        data['hdy/dt'].append(hdy_dt)\n",
    "        y = y + hdy_dt\n",
    "        t = t + h\n",
    "    df = pd.DataFrame(data)\n",
    "\n",
    "    print(df)\n",
    "    \n",
    "    plt.plot(df['t'], df['y'])\n",
    "    plt.plot(df['t'], df['dy/dt'])\n",
    "    plt.xlabel('t')\n",
    "    plt.ylabel('y')\n",
    "    plt.legend(['function', 'derivative'])\n",
    "    plt.title('Euler Method')\n",
    "    plt.grid()\n",
    "    plt.show()\n",
    "    return y\n",
    "\n",
    "# dy_dt = lambda t, y: -(y ** 2) + (1 / t)\n",
    "# t0 = 1\n",
    "# y0 = 2\n",
    "# t_end = 2\n",
    "# h = (2 - 1)/3    #h = dt = step-side = the number of steps given within an interval\n",
    "\n",
    "dy_dt = lambda t, y: (t ** 2) - (3 * t) + y\n",
    "t0 = 0\n",
    "y0 = 1\n",
    "t_end = 0.02\n",
    "h = 0.01\n",
    "\n",
    "solution = euler(dy_dt, t0, y0, t_end, h)\n",
    "print(\"Solution at t =\", t_end, \":\", solution)"
   ]
  },
  {
   "cell_type": "code",
   "execution_count": null,
   "id": "9b097bf5",
   "metadata": {},
   "outputs": [],
   "source": [
    "\"\"\"\n",
    "Advantages of Euler's method:\n",
    "\n",
    "_Simple to implement: Euler's method is relatively simple to implement and does not require advanced \n",
    "mathematical knowledge.\n",
    "\n",
    "_Low computational cost: Euler's method has a low computational cost, making it suitable for problems \n",
    "with large data sets or for real-time simulations.\n",
    "\n",
    "_Can handle non-linear ODEs: Euler's method can be used to solve non-linear ODEs, which are not easily \n",
    "solved using analytical methods.\n",
    "\n",
    "\n",
    "Disadvantages of Euler's method:\n",
    "\n",
    "_Low accuracy: Euler's method is a first-order method, which means that the accuracy of the solution is \n",
    "limited and the solution may deviate significantly from the true solution as the step size increases.\n",
    "\n",
    "_Can be unstable: Euler's method can be unstable for some ODEs, particularly those with rapidly changing \n",
    "solutions.\n",
    "\n",
    "_Requires small step size: Euler's method requires a small step size to achieve a reasonable level of accuracy.\n",
    "\n",
    "\"\"\""
   ]
  }
 ],
 "metadata": {
  "kernelspec": {
   "display_name": "python_ml",
   "language": "python",
   "name": "python_ml"
  },
  "language_info": {
   "codemirror_mode": {
    "name": "ipython",
    "version": 3
   },
   "file_extension": ".py",
   "mimetype": "text/x-python",
   "name": "python",
   "nbconvert_exporter": "python",
   "pygments_lexer": "ipython3",
   "version": "3.9.0"
  }
 },
 "nbformat": 4,
 "nbformat_minor": 5
}
