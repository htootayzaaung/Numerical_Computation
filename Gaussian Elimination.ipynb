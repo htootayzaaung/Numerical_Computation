{
 "cells": [
  {
   "cell_type": "code",
   "execution_count": 30,
   "id": "dc4edd0a",
   "metadata": {},
   "outputs": [
    {
     "name": "stdout",
     "output_type": "stream",
     "text": [
      "[1. 2. 2.]T\n",
      "\n",
      "x1: 1\n",
      "x2: 2\n",
      "x3: 2\n"
     ]
    }
   ],
   "source": [
    "import numpy as np\n",
    "\n",
    "A = np.array([[2, 1, 4],\n",
    "              [0, 1.5, 0],\n",
    "              [0, 0, 2]], float)\n",
    "\n",
    "b = np.array([12, 3, 4], float)\n",
    "\n",
    "# A = np.array([[4, -1, -1],\n",
    "#               [2, 4, 2],\n",
    "#               [1, 2, 4]], float)\n",
    "\n",
    "# b = np.array([9, -6, 3], float)\n",
    "\n",
    "upper_fraction = []\n",
    "lower_fraction = []\n",
    "\n",
    "def Guassian_Elimination(A, b):\n",
    "    n = len(b)\n",
    "    x = np.zeros(n, float)                     #This vector is initially filled with zeroes\n",
    "                                          \n",
    "    #Elimination\n",
    "    for k in range(n - 1):\n",
    "        if A[k, k] == 0:                       #if diagonals are 0\n",
    "            for j in range(n):\n",
    "                A[k , j], A[k + 1, j] = A[k + 1, j], A[k, j]\n",
    "            b[k], b[k + 1] = b[k + 1], b[k]\n",
    "                \n",
    "        for i in range(k + 1, n):              #the first row is fixed, hence starting from k + 1\n",
    "            if A[i, k] == 0:                   #if a coefficient is zero, skip the lines below within the for-loop\n",
    "                continue                       #we do not need to eliminate since, it is already 0\n",
    "            factor = A[k, k] / A[i, k]         #finding the factor so that the coefficients in the same columns are equal \n",
    "            b[i] = b[k] - factor * b[i]        \n",
    "            for j in range(k, n):\n",
    "                A[i, j] = A[k, j] - factor * A[i, j]    #elimination\n",
    "\n",
    "    #Backward_Substitution\n",
    "    x[n - 1] = b[n - 1] / A[n - 1, n - 1]\n",
    "    upper_fraction.insert(0, b[n - 1])\n",
    "    lower_fraction.insert(0, A[n - 1, n - 1])\n",
    "\n",
    "    for i in range(n - 2, -1, -1):             #Iteration starting from 2nd to last element to the first backwards\n",
    "        terms = 0\n",
    "        for j in range(i + 1, n):\n",
    "           terms += A[i, j] * x[j]\n",
    "        x[i] = (b[i] - terms) / A[i, i]\n",
    "    \n",
    "    print(f\"{x}T\\n\")\n",
    "    for i in range(n):\n",
    "        print(f\"x{i + 1}: {Fraction(x[i]).limit_denominator()}\")\n",
    "    \n",
    "Guassian_Elimination(A, b)\n"
   ]
  },
  {
   "cell_type": "code",
   "execution_count": null,
   "id": "74a36b58",
   "metadata": {},
   "outputs": [],
   "source": [
    "\"\"\"\n",
    "There are several limitations of the Gaussian elimination method:\n",
    "\n",
    "It is sensitive to round-off errors: Because Gaussian elimination involves a lot of arithmetic operations, \n",
    "round-off errors can accumulate and lead to inaccurate solutions.\n",
    "\n",
    "It is computationally expensive: Gaussian elimination requires a large number of arithmetic operations, making \n",
    "it computationally expensive for large systems of equations especially when O(n^3).\n",
    "\n",
    "It is not robust for singular matrices: If the matrix is singular (i.e. its determinant is zero) or not invertible, \n",
    "the method will not work and it will raise a \"Matrix is singular or not invertible\" error.\n",
    "\n",
    "It is not suitable for sparse matrices: Gaussian elimination is not efficient for sparse matrices, which are \n",
    "matrices that have a large number of zero elements.\n",
    "\n",
    "It may not be the best method for certain types of matrices: Gaussian elimination is not the best method for \n",
    "solving systems of linear equations with certain types of matrices, like ill-conditioned matrices, which are \n",
    "matrices that are almost singular.\n",
    "\n",
    "It doesn't always provide the most accurate solution: Gaussian elimination is not always able to provide the most \n",
    "accurate solution, depending on the nature of the system of equations.\n",
    "\n",
    "\"\"\""
   ]
  }
 ],
 "metadata": {
  "kernelspec": {
   "display_name": "python_ml",
   "language": "python",
   "name": "python_ml"
  },
  "language_info": {
   "codemirror_mode": {
    "name": "ipython",
    "version": 3
   },
   "file_extension": ".py",
   "mimetype": "text/x-python",
   "name": "python",
   "nbconvert_exporter": "python",
   "pygments_lexer": "ipython3",
   "version": "3.9.0"
  }
 },
 "nbformat": 4,
 "nbformat_minor": 5
}
