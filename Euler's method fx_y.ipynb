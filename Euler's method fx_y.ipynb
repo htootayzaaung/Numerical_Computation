{
 "cells": [
  {
   "cell_type": "code",
   "execution_count": 3,
   "id": "e92c6be9",
   "metadata": {},
   "outputs": [
    {
     "name": "stdout",
     "output_type": "stream",
     "text": [
      "       t         y   dy/dt    hdy/dt\n",
      "0   0.00  1.000000  1.0000  0.010000\n",
      "1   0.01  1.010000  1.0099  0.010099\n",
      "2   0.02  1.020099  1.0196  0.010196\n",
      "3   0.03  1.030295  1.0291  0.010291\n",
      "4   0.04  1.040586  1.0384  0.010384\n",
      "..   ...       ...     ...       ...\n",
      "95  0.95  2.115205  1.0475  0.010475\n",
      "96  0.96  2.125680  1.0384  0.010384\n",
      "97  0.97  2.136064  1.0291  0.010291\n",
      "98  0.98  2.146355  1.0196  0.010196\n",
      "99  0.99  2.156551  1.0099  0.010099\n",
      "\n",
      "[100 rows x 4 columns]\n"
     ]
    },
    {
     "data": {
      "image/png": "[encoded data removed]",
      "text/plain": [
       "<Figure size 432x288 with 1 Axes>"
      ]
     },
     "metadata": {
      "needs_background": "light"
     },
     "output_type": "display_data"
    },
    {
     "name": "stdout",
     "output_type": "stream",
     "text": [
      "Solution at t = 1 : 2.1666500000000006\n"
     ]
    }
   ],
   "source": [
    "\"\"\"\n",
    "Euler's method\n",
    "\n",
    "dy/dt = f(t)             f(t) contains the term t derivative\n",
    "\n",
    "d(t) = -(t ** 2) + t + 1.0\n",
    "\n",
    "t0 = float(0.0)\n",
    "d0 = float(1.0)\n",
    "dt = float(0.01)\n",
    "n = int(100)\n",
    "\n",
    "Worksheet 6 example\n",
    "\n",
    "\"\"\"\n",
    "import pandas as pd\n",
    "import matplotlib.pyplot as plt\n",
    "\n",
    "def euler(f, t0, y0, t_end, h):\n",
    "    t = t0\n",
    "    y = y0\n",
    "    data = {'t': [], 'y': [], 'dy/dt': [], 'hdy/dt': []}\n",
    "    while t < t_end:\n",
    "        dy_dt = f(t)\n",
    "        hdy_dt = h * dy_dt\n",
    "        data['t'].append(t)\n",
    "        data['y'].append(y)\n",
    "        data['dy/dt'].append(dy_dt)\n",
    "        data['hdy/dt'].append(hdy_dt)\n",
    "        y = y + hdy_dt\n",
    "        t = t + h\n",
    "    df = pd.DataFrame(data)\n",
    "\n",
    "    print(df)\n",
    "    \n",
    "    plt.plot(df['t'], df['y'])\n",
    "    plt.plot(df['t'], df['dy/dt'])\n",
    "    plt.xlabel('t')\n",
    "    plt.ylabel('y')\n",
    "    plt.legend(['function', 'derivative'])\n",
    "    plt.title('Euler Method')\n",
    "    plt.grid()\n",
    "    plt.show()\n",
    "    return y\n",
    "\n",
    "dy_dt = lambda t: -(t ** 2) + t + 1.0\n",
    "t0 = 0\n",
    "y0 = 1\n",
    "t_end = 1\n",
    "h = 0.01    #h = dt = step-side = the number of steps given within an interval\n",
    "\n",
    "solution = euler(dy_dt, t0, y0, t_end, h)\n",
    "print(\"Solution at t =\", t_end, \":\", solution)"
   ]
  }
 ],
 "metadata": {
  "kernelspec": {
   "display_name": "python_ml",
   "language": "python",
   "name": "python_ml"
  },
  "language_info": {
   "codemirror_mode": {
    "name": "ipython",
    "version": 3
   },
   "file_extension": ".py",
   "mimetype": "text/x-python",
   "name": "python",
   "nbconvert_exporter": "python",
   "pygments_lexer": "ipython3",
   "version": "3.9.0"
  }
 },
 "nbformat": 4,
 "nbformat_minor": 5
}
